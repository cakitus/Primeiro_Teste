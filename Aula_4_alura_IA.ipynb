{
  "nbformat": 4,
  "nbformat_minor": 0,
  "metadata": {
    "colab": {
      "provenance": [],
      "authorship_tag": "ABX9TyODtQnifAAbXnze9jtFxFig",
      "include_colab_link": true
    },
    "kernelspec": {
      "name": "python3",
      "display_name": "Python 3"
    },
    "language_info": {
      "name": "python"
    }
  },
  "cells": [
    {
      "cell_type": "markdown",
      "metadata": {
        "id": "view-in-github",
        "colab_type": "text"
      },
      "source": [
        "<a href=\"https://colab.research.google.com/github/cakitus/Primeiro_Teste/blob/main/Aula_4_alura_IA.ipynb\" target=\"_parent\"><img src=\"https://colab.research.google.com/assets/colab-badge.svg\" alt=\"Open In Colab\"/></a>"
      ]
    },
    {
      "cell_type": "markdown",
      "source": [
        "Instalando SDK do google"
      ],
      "metadata": {
        "id": "yoDZ7-FiMjUf"
      }
    },
    {
      "cell_type": "code",
      "execution_count": 1,
      "metadata": {
        "id": "ZVRFnJlJFGxL"
      },
      "outputs": [],
      "source": [
        "!pip install -q -U google-generativeai"
      ]
    },
    {
      "cell_type": "code",
      "source": [
        "# Import the Python SDK\n",
        "import google.generativeai as genai\n",
        "# Used to securely store your API key\n",
        "from google.colab import userdata\n",
        "\n",
        "GOOGLE_API_KEY='API key'\n",
        "genai.configure(api_key=GOOGLE_API_KEY)"
      ],
      "metadata": {
        "id": "zkcx7CWxMaG_"
      },
      "execution_count": 11,
      "outputs": []
    },
    {
      "cell_type": "markdown",
      "source": [
        "Listar os modelos disponíveis"
      ],
      "metadata": {
        "id": "_bKKysH_MsHv"
      }
    },
    {
      "cell_type": "code",
      "source": [
        "for m in genai.list_models():\n",
        "  if 'generateContent' in m.supported_generation_methods:\n",
        "    print(m.name)"
      ],
      "metadata": {
        "colab": {
          "base_uri": "https://localhost:8080/",
          "height": 138
        },
        "id": "9eKckX9XMm7u",
        "outputId": "f6d97661-211a-465f-80c0-89122d3277b0"
      },
      "execution_count": 3,
      "outputs": [
        {
          "output_type": "stream",
          "name": "stdout",
          "text": [
            "models/gemini-1.0-pro\n",
            "models/gemini-1.0-pro-001\n",
            "models/gemini-1.0-pro-latest\n",
            "models/gemini-1.0-pro-vision-latest\n",
            "models/gemini-1.5-pro-latest\n",
            "models/gemini-pro\n",
            "models/gemini-pro-vision\n"
          ]
        }
      ]
    },
    {
      "cell_type": "code",
      "source": [
        "generation_config = {\n",
        "    'candidate_count': 1,\n",
        "    'temperature': 0.5,\n",
        "}"
      ],
      "metadata": {
        "id": "4R4RHRYWOkbH"
      },
      "execution_count": 4,
      "outputs": []
    },
    {
      "cell_type": "code",
      "source": [
        "safety_settings = {\n",
        "    'HARASSMENT': 'BLOCK_NONE',\n",
        "    'HATE': 'BLOCK_NONE',\n",
        "    'SEXUAL': 'BLOCK_NONE',\n",
        "    'DANGEROUS': 'BLOCK_NONE',\n",
        "}"
      ],
      "metadata": {
        "id": "IsrvhroYO_aP"
      },
      "execution_count": 5,
      "outputs": []
    },
    {
      "cell_type": "markdown",
      "source": [
        "Inicializando o modelo"
      ],
      "metadata": {
        "id": "E9nh4XERPpzx"
      }
    },
    {
      "cell_type": "code",
      "source": [
        "model = genai.GenerativeModel(model_name='gemini-1.0-pro',\n",
        "                              generation_config=generation_config,\n",
        "                              safety_settings=safety_settings)"
      ],
      "metadata": {
        "id": "1-60i80UPn1v"
      },
      "execution_count": 6,
      "outputs": []
    },
    {
      "cell_type": "code",
      "source": [
        "response = model.generate_content(\"Macaco quer banana?\")\n",
        "print(response.text)"
      ],
      "metadata": {
        "colab": {
          "base_uri": "https://localhost:8080/",
          "height": 34
        },
        "id": "MOkmCdyFRNlB",
        "outputId": "9bcbe481-9e60-4cf5-f8dd-f7f6a5642674"
      },
      "execution_count": 7,
      "outputs": [
        {
          "output_type": "stream",
          "name": "stdout",
          "text": [
            "Sim\n"
          ]
        }
      ]
    },
    {
      "cell_type": "code",
      "source": [
        "chat = model.start_chat(history=[])"
      ],
      "metadata": {
        "id": "OtLE11NBRvWo"
      },
      "execution_count": 8,
      "outputs": []
    },
    {
      "cell_type": "code",
      "source": [
        "prompt = input(\"Digite sua pergunta: \")\n",
        "\n",
        "while prompt != \"fim\":\n",
        "  response = chat.send_message(prompt)\n",
        "  print(\"Resposta: \", response.text, \"\\n\")\n",
        "  prompt = input(\"Digite sua pergunta: \")"
      ],
      "metadata": {
        "colab": {
          "base_uri": "https://localhost:8080/",
          "height": 471
        },
        "id": "qz3IPTVaR-hH",
        "outputId": "10cf3e12-43f0-40e5-e7da-28501f1e7d44"
      },
      "execution_count": 9,
      "outputs": [
        {
          "name": "stdout",
          "output_type": "stream",
          "text": [
            "Digite sua pergunta: abracadabra\n",
            "Resposta:  **Meaning:**\n",
            "\n",
            "A magical word or incantation used to perform magic or produce a desired effect.\n",
            "\n",
            "**Origin:**\n",
            "\n",
            "The origin of the word \"abracadabra\" is uncertain, but there are several theories:\n",
            "\n",
            "* **Hebrew:** From the phrase \"avra kedavra\" (\"I will create as I speak\") or \"abreq ad habra\" (\"lightning flash, vanish\").\n",
            "* **Aramaic:** From the phrase \"abraq ad habra\" (\"lightning flash, vanish\").\n",
            "* **Syriac:** From the phrase \"abraq ad abra\" (\"lightning flash, lightning\").\n",
            "* **Greek:** From the phrase \"abraxas,\" the name of a Gnostic deity.\n",
            "\n",
            "**Usage:**\n",
            "\n",
            "\"Abracadabra\" is typically used in a playful or humorous context to refer to magic or the performance of extraordinary feats. It can also be used as a noun to refer to a magical spell or incantation.\n",
            "\n",
            "**Examples:**\n",
            "\n",
            "* \"The magician waved his wand and shouted 'abracadabra,' and the rabbit disappeared!\"\n",
            "* \"I don't know how you did that, it was like abracadabra!\"\n",
            "* \"The witch cast an abracadabra on the prince, turning him into a frog.\" \n",
            "\n",
            "Digite sua pergunta: fim\n"
          ]
        }
      ]
    },
    {
      "cell_type": "code",
      "source": [
        "#Melhorando a visualização\n",
        "#Código disponível em https://ai.google.dev/tutorials/python_quickstart#import_packages\n",
        "import textwrap\n",
        "from IPython.display import display\n",
        "from IPython.display import Markdown\n",
        "\n",
        "def to_markdown(text):\n",
        "  text = text.replace('•', '  *')\n",
        "  return Markdown(textwrap.indent(text, '> ', predicate=lambda _: True))\n",
        "\n",
        "#Imprimindo o histórico\n",
        "for message in chat.history:\n",
        "  display(to_markdown(f'**{message.role}**: {message.parts[0].text}'))\n",
        "  print('-------------------------------------------')"
      ],
      "metadata": {
        "colab": {
          "base_uri": "https://localhost:8080/",
          "height": 433
        },
        "id": "ouc41iaqTa24",
        "outputId": "c1b86937-c94e-464b-aa1d-567ead8e8a79"
      },
      "execution_count": 10,
      "outputs": [
        {
          "output_type": "display_data",
          "data": {
            "text/plain": [
              "<IPython.core.display.Markdown object>"
            ],
            "text/markdown": "> **user**: abracadabra"
          },
          "metadata": {}
        },
        {
          "output_type": "stream",
          "name": "stdout",
          "text": [
            "-------------------------------------------\n"
          ]
        },
        {
          "output_type": "display_data",
          "data": {
            "text/plain": [
              "<IPython.core.display.Markdown object>"
            ],
            "text/markdown": "> **model**: **Meaning:**\n> \n> A magical word or incantation used to perform magic or produce a desired effect.\n> \n> **Origin:**\n> \n> The origin of the word \"abracadabra\" is uncertain, but there are several theories:\n> \n> * **Hebrew:** From the phrase \"avra kedavra\" (\"I will create as I speak\") or \"abreq ad habra\" (\"lightning flash, vanish\").\n> * **Aramaic:** From the phrase \"abraq ad habra\" (\"lightning flash, vanish\").\n> * **Syriac:** From the phrase \"abraq ad abra\" (\"lightning flash, lightning\").\n> * **Greek:** From the phrase \"abraxas,\" the name of a Gnostic deity.\n> \n> **Usage:**\n> \n> \"Abracadabra\" is typically used in a playful or humorous context to refer to magic or the performance of extraordinary feats. It can also be used as a noun to refer to a magical spell or incantation.\n> \n> **Examples:**\n> \n> * \"The magician waved his wand and shouted 'abracadabra,' and the rabbit disappeared!\"\n> * \"I don't know how you did that, it was like abracadabra!\"\n> * \"The witch cast an abracadabra on the prince, turning him into a frog.\""
          },
          "metadata": {}
        },
        {
          "output_type": "stream",
          "name": "stdout",
          "text": [
            "-------------------------------------------\n"
          ]
        }
      ]
    }
  ]
}